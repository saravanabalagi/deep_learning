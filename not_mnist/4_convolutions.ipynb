{
 "cells": [
  {
   "cell_type": "markdown",
   "metadata": {
    "colab_type": "text",
    "id": "4embtkV0pNxM"
   },
   "source": [
    "Deep Learning\n",
    "=============\n",
    "\n",
    "Assignment 4\n",
    "------------\n",
    "\n",
    "Previously in `2_fullyconnected.ipynb` and `3_regularization.ipynb`, we trained fully connected networks to classify [notMNIST](http://yaroslavvb.blogspot.com/2011/09/notmnist-dataset.html) characters.\n",
    "\n",
    "The goal of this assignment is make the neural network convolutional."
   ]
  },
  {
   "cell_type": "code",
   "execution_count": 2,
   "metadata": {
    "cellView": "both",
    "colab": {
     "autoexec": {
      "startup": false,
      "wait_interval": 0
     }
    },
    "colab_type": "code",
    "collapsed": true,
    "id": "tm2CQN_Cpwj0"
   },
   "outputs": [],
   "source": [
    "# These are all the modules we'll be using later. Make sure you can import them\n",
    "# before proceeding further.\n",
    "from __future__ import print_function\n",
    "import numpy as np\n",
    "import tensorflow as tf\n",
    "from six.moves import cPickle as pickle\n",
    "from six.moves import range"
   ]
  },
  {
   "cell_type": "code",
   "execution_count": 3,
   "metadata": {
    "cellView": "both",
    "colab": {
     "autoexec": {
      "startup": false,
      "wait_interval": 0
     },
     "output_extras": [
      {
       "item_id": 1
      }
     ]
    },
    "colab_type": "code",
    "executionInfo": {
     "elapsed": 11948,
     "status": "ok",
     "timestamp": 1446658914837,
     "user": {
      "color": "",
      "displayName": "",
      "isAnonymous": false,
      "isMe": true,
      "permissionId": "",
      "photoUrl": "",
      "sessionId": "0",
      "userId": ""
     },
     "user_tz": 480
    },
    "id": "y3-cj1bpmuxc",
    "outputId": "016b1a51-0290-4b08-efdb-8c95ffc3cd01"
   },
   "outputs": [
    {
     "name": "stdout",
     "output_type": "stream",
     "text": [
      "Training set (200000, 28, 28) (200000,)\n",
      "Validation set (10000, 28, 28) (10000,)\n",
      "Test set (10000, 28, 28) (10000,)\n"
     ]
    }
   ],
   "source": [
    "pickle_file = 'notMNIST.pickle'\n",
    "\n",
    "with open(pickle_file, 'rb') as f:\n",
    "  save = pickle.load(f)\n",
    "  train_dataset = save['train_dataset']\n",
    "  train_labels = save['train_labels']\n",
    "  valid_dataset = save['valid_dataset']\n",
    "  valid_labels = save['valid_labels']\n",
    "  test_dataset = save['test_dataset']\n",
    "  test_labels = save['test_labels']\n",
    "  del save  # hint to help gc free up memory\n",
    "  print('Training set', train_dataset.shape, train_labels.shape)\n",
    "  print('Validation set', valid_dataset.shape, valid_labels.shape)\n",
    "  print('Test set', test_dataset.shape, test_labels.shape)"
   ]
  },
  {
   "cell_type": "markdown",
   "metadata": {
    "colab_type": "text",
    "id": "L7aHrm6nGDMB"
   },
   "source": [
    "Reformat into a TensorFlow-friendly shape:\n",
    "- convolutions need the image data formatted as a cube (width by height by #channels)\n",
    "- labels as float 1-hot encodings."
   ]
  },
  {
   "cell_type": "code",
   "execution_count": 4,
   "metadata": {
    "cellView": "both",
    "colab": {
     "autoexec": {
      "startup": false,
      "wait_interval": 0
     },
     "output_extras": [
      {
       "item_id": 1
      }
     ]
    },
    "colab_type": "code",
    "executionInfo": {
     "elapsed": 11952,
     "status": "ok",
     "timestamp": 1446658914857,
     "user": {
      "color": "",
      "displayName": "",
      "isAnonymous": false,
      "isMe": true,
      "permissionId": "",
      "photoUrl": "",
      "sessionId": "0",
      "userId": ""
     },
     "user_tz": 480
    },
    "id": "IRSyYiIIGIzS",
    "outputId": "650a208c-8359-4852-f4f5-8bf10e80ef6c"
   },
   "outputs": [
    {
     "name": "stdout",
     "output_type": "stream",
     "text": [
      "Training set (200000, 28, 28, 1) (200000, 10)\n",
      "Validation set (10000, 28, 28, 1) (10000, 10)\n",
      "Test set (10000, 28, 28, 1) (10000, 10)\n"
     ]
    }
   ],
   "source": [
    "image_size = 28\n",
    "num_labels = 10\n",
    "num_channels = 1 # grayscale\n",
    "\n",
    "import numpy as np\n",
    "\n",
    "def reformat(dataset, labels):\n",
    "  dataset = dataset.reshape(\n",
    "    (-1, image_size, image_size, num_channels)).astype(np.float32)\n",
    "  labels = (np.arange(num_labels) == labels[:,None]).astype(np.float32)\n",
    "  return dataset, labels\n",
    "train_dataset, train_labels = reformat(train_dataset, train_labels)\n",
    "valid_dataset, valid_labels = reformat(valid_dataset, valid_labels)\n",
    "test_dataset, test_labels = reformat(test_dataset, test_labels)\n",
    "print('Training set', train_dataset.shape, train_labels.shape)\n",
    "print('Validation set', valid_dataset.shape, valid_labels.shape)\n",
    "print('Test set', test_dataset.shape, test_labels.shape)"
   ]
  },
  {
   "cell_type": "code",
   "execution_count": 5,
   "metadata": {
    "cellView": "both",
    "colab": {
     "autoexec": {
      "startup": false,
      "wait_interval": 0
     }
    },
    "colab_type": "code",
    "collapsed": true,
    "id": "AgQDIREv02p1"
   },
   "outputs": [],
   "source": [
    "def accuracy(predictions, labels):\n",
    "  return (100.0 * np.sum(np.argmax(predictions, 1) == np.argmax(labels, 1))\n",
    "          / predictions.shape[0])"
   ]
  },
  {
   "cell_type": "markdown",
   "metadata": {
    "colab_type": "text",
    "id": "5rhgjmROXu2O"
   },
   "source": [
    "Let's build a small network with two convolutional layers, followed by one fully connected layer. Convolutional networks are more expensive computationally, so we'll limit its depth and number of fully connected nodes."
   ]
  },
  {
   "cell_type": "code",
   "execution_count": 6,
   "metadata": {
    "cellView": "both",
    "colab": {
     "autoexec": {
      "startup": false,
      "wait_interval": 0
     }
    },
    "colab_type": "code",
    "collapsed": true,
    "id": "IZYv70SvvOan"
   },
   "outputs": [],
   "source": [
    "batch_size = 16\n",
    "patch_size = 5\n",
    "depth = 16\n",
    "num_hidden = 64\n",
    "\n",
    "graph = tf.Graph()\n",
    "\n",
    "with graph.as_default():\n",
    "\n",
    "  # Input data.\n",
    "  tf_train_dataset = tf.placeholder(tf.float32, shape=(batch_size, image_size, image_size, num_channels))\n",
    "  tf_train_labels = tf.placeholder(tf.float32, shape=(batch_size, num_labels))\n",
    "  tf_valid_dataset = tf.constant(valid_dataset)\n",
    "  tf_test_dataset = tf.constant(test_dataset)\n",
    "  \n",
    "  # Variables.\n",
    "  w1 = tf.Variable(tf.truncated_normal([patch_size, patch_size, num_channels, depth], stddev=0.1))\n",
    "  b1 = tf.Variable(tf.zeros([depth]))\n",
    "  w2 = tf.Variable(tf.truncated_normal([patch_size, patch_size, depth, depth], stddev=0.1))\n",
    "  b2 = tf.Variable(tf.constant(1.0, shape=[depth]))\n",
    "  w3 = tf.Variable(tf.truncated_normal([image_size // 4 * image_size // 4 * depth, num_hidden], stddev=0.1))\n",
    "  b3 = tf.Variable(tf.constant(1.0, shape=[num_hidden]))\n",
    "  w4 = tf.Variable(tf.truncated_normal([num_hidden, num_labels], stddev=0.1))\n",
    "  b4 = tf.Variable(tf.constant(1.0, shape=[num_labels]))\n",
    "  \n",
    "  # Model.\n",
    "  def model(data):\n",
    "    conv = tf.nn.conv2d(data, w1, strides=[1, 2, 2, 1], padding='SAME')\n",
    "    hidden = tf.nn.relu(conv + b1)\n",
    "    conv = tf.nn.conv2d(hidden, w2, strides=[1, 2, 2, 1], padding='SAME')\n",
    "    hidden = tf.nn.relu(conv + b2)\n",
    "    shape = hidden.get_shape().as_list()\n",
    "    reshape = tf.reshape(hidden, [shape[0], shape[1] * shape[2] * shape[3]])\n",
    "    hidden = tf.nn.relu(tf.matmul(reshape, w3) + b3)\n",
    "    return tf.matmul(hidden, w4) + b4\n",
    "  \n",
    "  # Training computation.\n",
    "  logits = model(tf_train_dataset)\n",
    "  loss = tf.reduce_mean(\n",
    "    tf.nn.softmax_cross_entropy_with_logits(labels=tf_train_labels, logits=logits))\n",
    "    \n",
    "  # Optimizer.\n",
    "  optimizer = tf.train.GradientDescentOptimizer(0.05).minimize(loss)\n",
    "  \n",
    "  # Predictions for the training, validation, and test data.\n",
    "  train_prediction = tf.nn.softmax(logits)\n",
    "  valid_prediction = tf.nn.softmax(model(tf_valid_dataset))\n",
    "  test_prediction = tf.nn.softmax(model(tf_test_dataset))"
   ]
  },
  {
   "cell_type": "code",
   "execution_count": 7,
   "metadata": {
    "cellView": "both",
    "colab": {
     "autoexec": {
      "startup": false,
      "wait_interval": 0
     },
     "output_extras": [
      {
       "item_id": 37
      }
     ]
    },
    "colab_type": "code",
    "executionInfo": {
     "elapsed": 63292,
     "status": "ok",
     "timestamp": 1446658966251,
     "user": {
      "color": "",
      "displayName": "",
      "isAnonymous": false,
      "isMe": true,
      "permissionId": "",
      "photoUrl": "",
      "sessionId": "0",
      "userId": ""
     },
     "user_tz": 480
    },
    "id": "noKFb2UovVFR",
    "outputId": "28941338-2ef9-4088-8bd1-44295661e628"
   },
   "outputs": [
    {
     "name": "stdout",
     "output_type": "stream",
     "text": [
      "Initialized\n",
      "------------------------------------------------------------\n",
      "            |        Minibatch        | Validation \n",
      "    Step    |    Loss    |  Accuracy  |  Accuracy  \n",
      "     0      |    5.18    |    6.25    |   10.00    \n",
      "     50     |    1.84    |   37.50    |   38.92    \n",
      "    100     |    0.73    |   81.25    |   63.65    \n",
      "    150     |    1.10    |   68.75    |   72.80    \n",
      "    200     |    1.14    |   68.75    |   77.72    \n",
      "    250     |    0.79    |   68.75    |   75.09    \n",
      "    300     |    0.28    |   93.75    |   78.61    \n",
      "    350     |    1.10    |   56.25    |   78.96    \n",
      "    400     |    0.58    |   87.50    |   80.20    \n",
      "    450     |    0.30    |   87.50    |   80.55    \n",
      "    500     |    0.37    |   87.50    |   79.83    \n",
      "    550     |    0.52    |   81.25    |   81.03    \n",
      "    600     |    0.31    |   93.75    |   80.92    \n",
      "    650     |    0.53    |   93.75    |   80.67    \n",
      "    700     |    0.66    |   68.75    |   81.25    \n",
      "    750     |    0.89    |   75.00    |   81.57    \n",
      "    800     |    0.36    |   87.50    |   81.79    \n",
      "    850     |    0.44    |   93.75    |   82.16    \n",
      "    900     |    0.32    |   87.50    |   81.97    \n",
      "    950     |    0.11    |   100.00   |   82.91    \n",
      "    1000    |    0.61    |   87.50    |   82.38    \n",
      "------------------------------------------------------------\n",
      "Test accuracy: 89.3%\n"
     ]
    }
   ],
   "source": [
    "num_steps = 1001\n",
    "\n",
    "with tf.Session(graph=graph) as session:\n",
    "  tf.global_variables_initializer().run()\n",
    "  print('Initialized')\n",
    "  print('-'*60)\n",
    "  print('{:^12s}|{:^25s}|{:^12s}'.format(\"\",\"Minibatch\",\"Validation\"))\n",
    "  print('{:^12s}|{:^12s}|{:^12s}|{:^12s}'.format(\"Step\",\"Loss\",\"Accuracy\",\"Accuracy\"))\n",
    "  for step in range(num_steps):\n",
    "    offset = (step * batch_size) % (train_labels.shape[0] - batch_size)\n",
    "    batch_data = train_dataset[offset:(offset + batch_size), :, :, :]\n",
    "    batch_labels = train_labels[offset:(offset + batch_size), :]\n",
    "    feed_dict = {tf_train_dataset : batch_data, tf_train_labels : batch_labels}\n",
    "    _, l, predictions = session.run(\n",
    "      [optimizer, loss, train_prediction], feed_dict=feed_dict)\n",
    "    if (step % 50 == 0):\n",
    "      print('{:^12d}|{:^12.2f}|{:^12.2f}|{:^12.2f}'.format(step,l,accuracy(predictions, batch_labels),accuracy(valid_prediction.eval(), valid_labels)))\n",
    "  print('-'*60)\n",
    "  print('Test accuracy: %.1f%%' % accuracy(test_prediction.eval(), test_labels))"
   ]
  },
  {
   "cell_type": "markdown",
   "metadata": {
    "colab_type": "text",
    "id": "KedKkn4EutIK"
   },
   "source": [
    "---\n",
    "Problem 1\n",
    "---------\n",
    "\n",
    "The convolutional model above uses convolutions with stride 2 to reduce the dimensionality. Replace the strides by a max pooling operation (`nn.max_pool()`) of stride 2 and kernel size 2.\n",
    "\n",
    "---"
   ]
  },
  {
   "cell_type": "code",
   "execution_count": 8,
   "metadata": {},
   "outputs": [
    {
     "name": "stdout",
     "output_type": "stream",
     "text": [
      "Initialized\n",
      "------------------------------------------------------------\n",
      "            |        Minibatch        | Validation \n",
      "    Step    |    Loss    |  Accuracy  |  Accuracy  \n",
      "     0      |    5.44    |    0.00    |   10.00    \n",
      "     50     |    2.16    |   18.75    |   17.88    \n",
      "    100     |    1.20    |   56.25    |   39.97    \n",
      "    150     |    1.08    |   68.75    |   63.51    \n",
      "    200     |    1.24    |   68.75    |   75.22    \n",
      "    250     |    0.97    |   68.75    |   73.70    \n",
      "    300     |    0.30    |   93.75    |   78.12    \n",
      "    350     |    1.10    |   75.00    |   80.53    \n",
      "    400     |    0.91    |   75.00    |   80.19    \n",
      "    450     |    0.40    |   87.50    |   81.65    \n",
      "    500     |    0.39    |   87.50    |   81.30    \n",
      "    550     |    0.56    |   75.00    |   81.72    \n",
      "    600     |    0.25    |   93.75    |   81.59    \n",
      "    650     |    0.77    |   75.00    |   82.06    \n",
      "    700     |    0.53    |   81.25    |   82.97    \n",
      "    750     |    0.86    |   81.25    |   82.11    \n",
      "    800     |    0.43    |   81.25    |   83.20    \n",
      "    850     |    0.38    |   93.75    |   83.84    \n",
      "    900     |    0.31    |   87.50    |   83.02    \n",
      "    950     |    0.22    |   93.75    |   83.63    \n",
      "    1000    |    0.71    |   81.25    |   83.57    \n",
      "------------------------------------------------------------\n",
      "Test accuracy: 90.1%\n"
     ]
    }
   ],
   "source": [
    "batch_size = 16\n",
    "patch_size = 5\n",
    "depth = 16\n",
    "num_hidden = 64\n",
    "\n",
    "graph = tf.Graph()\n",
    "\n",
    "with graph.as_default():\n",
    "\n",
    "  # Input data.\n",
    "  tf_train_dataset = tf.placeholder(tf.float32, shape=(batch_size, image_size, image_size, num_channels))\n",
    "  tf_train_labels = tf.placeholder(tf.float32, shape=(batch_size, num_labels))\n",
    "  tf_valid_dataset = tf.constant(valid_dataset)\n",
    "  tf_test_dataset = tf.constant(test_dataset)\n",
    "  \n",
    "  # Variables.\n",
    "  w1 = tf.Variable(tf.truncated_normal([patch_size, patch_size, num_channels, depth], stddev=0.1))\n",
    "  b1 = tf.Variable(tf.zeros([depth]))\n",
    "  w2 = tf.Variable(tf.truncated_normal([patch_size, patch_size, depth, depth], stddev=0.1))\n",
    "  b2 = tf.Variable(tf.constant(1.0, shape=[depth]))\n",
    "  w3 = tf.Variable(tf.truncated_normal([image_size // 4 * image_size // 4 * depth, num_hidden], stddev=0.1))\n",
    "  b3 = tf.Variable(tf.constant(1.0, shape=[num_hidden]))\n",
    "  w4 = tf.Variable(tf.truncated_normal([num_hidden, num_labels], stddev=0.1))\n",
    "  b4 = tf.Variable(tf.constant(1.0, shape=[num_labels]))\n",
    "  \n",
    "  # Model.\n",
    "  def model(data):\n",
    "    conv = tf.nn.conv2d(data, w1, strides=[1, 1, 1, 1], padding='SAME')\n",
    "    pool = tf.nn.max_pool(conv, ksize=[1,2,2,1], strides=[1,2,2,1], padding='SAME')\n",
    "    hidden = tf.nn.relu(pool + b1)\n",
    "    conv = tf.nn.conv2d(hidden, w2, strides=[1, 1, 1, 1], padding='SAME')\n",
    "    pool = tf.nn.max_pool(conv, ksize=[1,2,2,1], strides=[1,2,2,1], padding='SAME')\n",
    "    hidden = tf.nn.relu(pool + b2)\n",
    "    shape = hidden.get_shape().as_list()\n",
    "    reshape = tf.reshape(hidden, [shape[0], shape[1] * shape[2] * shape[3]])\n",
    "    hidden = tf.nn.relu(tf.matmul(reshape, w3) + b3)\n",
    "    return tf.matmul(hidden, w4) + b4\n",
    "  \n",
    "  # Training computation.\n",
    "  logits = model(tf_train_dataset)\n",
    "  loss = tf.reduce_mean(\n",
    "    tf.nn.softmax_cross_entropy_with_logits(labels=tf_train_labels, logits=logits))\n",
    "    \n",
    "  # Optimizer.\n",
    "  optimizer = tf.train.GradientDescentOptimizer(0.05).minimize(loss)\n",
    "  \n",
    "  # Predictions for the training, validation, and test data.\n",
    "  train_prediction = tf.nn.softmax(logits)\n",
    "  valid_prediction = tf.nn.softmax(model(tf_valid_dataset))\n",
    "  test_prediction = tf.nn.softmax(model(tf_test_dataset))\n",
    "\n",
    "num_steps = 1001\n",
    "\n",
    "with tf.Session(graph=graph) as session:\n",
    "  tf.global_variables_initializer().run()\n",
    "  print('Initialized')\n",
    "  print('-'*60)\n",
    "  print('{:^12s}|{:^25s}|{:^12s}'.format(\"\",\"Minibatch\",\"Validation\"))\n",
    "  print('{:^12s}|{:^12s}|{:^12s}|{:^12s}'.format(\"Step\",\"Loss\",\"Accuracy\",\"Accuracy\"))\n",
    "  for step in range(num_steps):\n",
    "    offset = (step * batch_size) % (train_labels.shape[0] - batch_size)\n",
    "    batch_data = train_dataset[offset:(offset + batch_size), :, :, :]\n",
    "    batch_labels = train_labels[offset:(offset + batch_size), :]\n",
    "    feed_dict = {tf_train_dataset : batch_data, tf_train_labels : batch_labels}\n",
    "    _, l, predictions = session.run(\n",
    "      [optimizer, loss, train_prediction], feed_dict=feed_dict)\n",
    "    if (step % 50 == 0):\n",
    "      print('{:^12d}|{:^12.2f}|{:^12.2f}|{:^12.2f}'.format(step,l,accuracy(predictions, batch_labels),accuracy(valid_prediction.eval(), valid_labels)))\n",
    "  print('-'*60)\n",
    "  print('Test accuracy: %.1f%%' % accuracy(test_prediction.eval(), test_labels))"
   ]
  },
  {
   "cell_type": "markdown",
   "metadata": {
    "colab_type": "text",
    "id": "klf21gpbAgb-"
   },
   "source": [
    "---\n",
    "Problem 2\n",
    "---------\n",
    "\n",
    "Try to get the best performance you can using a convolutional net. Look for example at the classic [LeNet5](http://yann.lecun.com/exdb/lenet/) architecture, adding Dropout, and/or adding learning rate decay.\n",
    "\n",
    "---"
   ]
  },
  {
   "cell_type": "code",
   "execution_count": 58,
   "metadata": {},
   "outputs": [
    {
     "name": "stdout",
     "output_type": "stream",
     "text": [
      "Initialized\n",
      "------------------------------------------------------------\n",
      "            |        Minibatch        | Validation \n",
      "    Step    |    Loss    |  Accuracy  |  Accuracy  \n",
      "     0      |   11.61    |   18.75    |   10.00    \n",
      "    100     |    5.06    |   87.50    |   72.18    \n",
      "    200     |    5.58    |   75.00    |   78.77    \n",
      "    300     |    4.63    |   93.75    |   80.41    \n",
      "    400     |    4.82    |   81.25    |   81.59    \n",
      "    500     |    4.58    |   87.50    |   81.97    \n",
      "    600     |    4.25    |   93.75    |   81.66    \n",
      "    700     |    4.72    |   81.25    |   82.96    \n",
      "    800     |    4.26    |   81.25    |   83.12    \n",
      "    900     |    4.13    |   81.25    |   83.07    \n",
      "    1000    |    4.41    |   75.00    |   84.12    \n",
      "    1100    |    4.07    |   75.00    |   83.44    \n",
      "    1200    |    4.03    |   87.50    |   84.46    \n",
      "    1300    |    3.79    |   87.50    |   84.48    \n",
      "    1400    |    3.99    |   75.00    |   84.90    \n",
      "    1500    |    4.22    |   62.50    |   85.03    \n",
      "    1600    |    3.17    |   100.00   |   85.09    \n",
      "    1700    |    3.54    |   87.50    |   85.78    \n",
      "    1800    |    3.14    |   93.75    |   85.36    \n",
      "    1900    |    3.68    |   68.75    |   85.35    \n",
      "    2000    |    2.87    |   93.75    |   85.53    \n",
      "    2100    |    3.32    |   87.50    |   86.50    \n",
      "    2200    |    2.95    |   93.75    |   86.62    \n",
      "    2300    |    2.97    |   81.25    |   86.59    \n",
      "    2400    |    2.93    |   87.50    |   86.35    \n",
      "    2500    |    3.08    |   87.50    |   86.01    \n",
      "    2600    |    3.10    |   75.00    |   86.17    \n",
      "    2700    |    2.66    |   87.50    |   85.07    \n",
      "    2800    |    2.51    |   93.75    |   86.52    \n",
      "    2900    |    3.03    |   68.75    |   85.70    \n",
      "------------------------------------------------------------\n",
      "Test accuracy: 93.3%\n"
     ]
    }
   ],
   "source": [
    "batch_size = 16\n",
    "patch_size = 5\n",
    "depth = 16\n",
    "num_hidden = 512\n",
    "num_steps = 3000\n",
    "\n",
    "keep_prob = 1\n",
    "regularization_constant = 0.003\n",
    "starting_learning_rate = 0.05\n",
    "\n",
    "graph = tf.Graph()\n",
    "\n",
    "with graph.as_default():\n",
    "\n",
    "  # Input data.\n",
    "  tf_train_dataset = tf.placeholder(tf.float32, shape=(batch_size, image_size, image_size, num_channels))\n",
    "  tf_train_labels = tf.placeholder(tf.float32, shape=(batch_size, num_labels))\n",
    "  tf_valid_dataset = tf.constant(valid_dataset)\n",
    "  tf_test_dataset = tf.constant(test_dataset)\n",
    "  \n",
    "  # Variables.\n",
    "  w1 = tf.Variable(tf.truncated_normal([patch_size, patch_size, num_channels, depth], stddev=0.1))\n",
    "  b1 = tf.Variable(tf.zeros([depth]))\n",
    "  w2 = tf.Variable(tf.truncated_normal([patch_size, patch_size, depth, depth], stddev=0.1))\n",
    "  b2 = tf.Variable(tf.constant(1.0, shape=[depth]))\n",
    "  w3 = tf.Variable(tf.truncated_normal([image_size // 4 * image_size // 4 * depth, num_hidden], stddev=0.1))\n",
    "  b3 = tf.Variable(tf.constant(1.0, shape=[num_hidden]))\n",
    "  w4 = tf.Variable(tf.truncated_normal([num_hidden, num_labels], stddev=0.1))\n",
    "  b4 = tf.Variable(tf.constant(1.0, shape=[num_labels]))\n",
    "  \n",
    "  # Model.\n",
    "  def model(data, keep_prob = None):\n",
    "    conv = tf.nn.conv2d(data, w1, strides=[1, 1, 1, 1], padding='SAME')\n",
    "    pool = tf.nn.max_pool(conv, ksize=[1,2,2,1], strides=[1,2,2,1], padding='SAME')\n",
    "    hidden = tf.nn.relu(pool + b1)\n",
    "    conv = tf.nn.conv2d(hidden, w2, strides=[1, 1, 1, 1], padding='SAME')\n",
    "    pool = tf.nn.max_pool(conv, ksize=[1,2,2,1], strides=[1,2,2,1], padding='SAME')\n",
    "    hidden = tf.nn.relu(pool + b2)\n",
    "    shape = hidden.get_shape().as_list()\n",
    "    reshape = tf.reshape(hidden, [shape[0], shape[1] * shape[2] * shape[3]])\n",
    "    if keep_prob:\n",
    "        w3_dropped = tf.nn.dropout(w3,keep_prob)\n",
    "        w4_dropped = tf.nn.dropout(w4,keep_prob)\n",
    "        hidden = tf.nn.relu(tf.matmul(reshape, w3_dropped) + b3)\n",
    "        return (tf.matmul(hidden, w4_dropped) + b4),w3_dropped,w4_dropped\n",
    "    else:\n",
    "        hidden = tf.nn.relu(tf.matmul(reshape, w3) + b3)\n",
    "        return tf.matmul(hidden, w4) + b4\n",
    "  \n",
    "  # Training computation.\n",
    "  logits, w3_dropped, w4_dropped = model(tf_train_dataset, keep_prob)\n",
    "  loss = tf.reduce_mean(tf.nn.softmax_cross_entropy_with_logits(labels=tf_train_labels, logits=logits))\n",
    "  loss += regularization_constant * (tf.nn.l2_loss(w1) + tf.nn.l2_loss(w2) \n",
    "                                     + tf.nn.l2_loss(w3_dropped) + tf.nn.l2_loss(w4_dropped)) \n",
    "    \n",
    "  # learning Rate\n",
    "  global_step = tf.Variable(0., trainable=False)\n",
    "  learning_rate = tf.train.exponential_decay(starting_learning_rate, global_step, 1000, 0.96, staircase=False)\n",
    "    \n",
    "  # Optimizer.\n",
    "  optimizer = tf.train.GradientDescentOptimizer(learning_rate).minimize(loss, global_step=global_step)\n",
    "  \n",
    "  # Predictions for the training, validation, and test data.\n",
    "  train_prediction = tf.nn.softmax(logits)\n",
    "  valid_prediction = tf.nn.softmax(model(tf_valid_dataset))\n",
    "  test_prediction = tf.nn.softmax(model(tf_test_dataset))\n",
    "\n",
    "with tf.Session(graph=graph) as session:\n",
    "  tf.global_variables_initializer().run()\n",
    "  print('Initialized')\n",
    "  print('-'*60)\n",
    "  print('{:^12s}|{:^25s}|{:^12s}'.format(\"\",\"Minibatch\",\"Validation\"))\n",
    "  print('{:^12s}|{:^12s}|{:^12s}|{:^12s}'.format(\"Step\",\"Loss\",\"Accuracy\",\"Accuracy\"))\n",
    "  for step in range(num_steps):\n",
    "    offset = (step * batch_size) % (train_labels.shape[0] - batch_size)\n",
    "    batch_data = train_dataset[offset:(offset + batch_size), :, :, :]\n",
    "    batch_labels = train_labels[offset:(offset + batch_size), :]\n",
    "    feed_dict = {tf_train_dataset : batch_data, tf_train_labels : batch_labels}\n",
    "    _, l, predictions = session.run(\n",
    "      [optimizer, loss, train_prediction], feed_dict=feed_dict)\n",
    "    if (step % 100 == 0):\n",
    "      print('{:^12d}|{:^12.2f}|{:^12.2f}|{:^12.2f}'.format(step,l,accuracy(predictions, batch_labels),accuracy(valid_prediction.eval(), valid_labels)))\n",
    "  print('-'*60)\n",
    "  print('Test accuracy: %.1f%%' % accuracy(test_prediction.eval(), test_labels))"
   ]
  }
 ],
 "metadata": {
  "colab": {
   "default_view": {},
   "name": "4_convolutions.ipynb",
   "provenance": [],
   "version": "0.3.2",
   "views": {}
  },
  "kernelspec": {
   "display_name": "Python 3",
   "language": "python",
   "name": "python3"
  },
  "language_info": {
   "codemirror_mode": {
    "name": "ipython",
    "version": 3
   },
   "file_extension": ".py",
   "mimetype": "text/x-python",
   "name": "python",
   "nbconvert_exporter": "python",
   "pygments_lexer": "ipython3",
   "version": "3.5.3"
  }
 },
 "nbformat": 4,
 "nbformat_minor": 1
}
